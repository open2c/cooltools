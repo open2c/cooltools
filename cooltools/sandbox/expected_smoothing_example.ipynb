{
 "cells": [
  {
   "cell_type": "code",
   "execution_count": 1,
   "id": "supposed-greeting",
   "metadata": {},
   "outputs": [],
   "source": [
    "import numpy as np\n",
    "import pandas as pd\n",
    "\n",
    "import matplotlib.pyplot as plt\n",
    "\n",
    "import bioframe\n",
    "\n",
    "import cooler\n",
    "import cooltools \n",
    "import cooltools.expected"
   ]
  },
  {
   "cell_type": "code",
   "execution_count": 2,
   "id": "included-contrary",
   "metadata": {},
   "outputs": [],
   "source": [
    "import cooltools.sandbox\n",
    "import cooltools.sandbox.expected_smoothing"
   ]
  },
  {
   "cell_type": "code",
   "execution_count": 3,
   "id": "modified-shaft",
   "metadata": {},
   "outputs": [
    {
     "name": "stdout",
     "output_type": "stream",
     "text": [
      "./test.mcool\n"
     ]
    }
   ],
   "source": [
    "# download test data\n",
    "# this file is 145 Mb, and may take a few seconds to download\n",
    "cool_file = cooltools.download_data(\"HFF_MicroC\", cache=True, data_dir='./')    \n",
    "print(cool_file)"
   ]
  },
  {
   "cell_type": "code",
   "execution_count": 4,
   "id": "supported-trailer",
   "metadata": {},
   "outputs": [],
   "source": [
    "# Load a Hi-C map at a 1kb resolution from a cooler file.\n",
    "clr = cooler.Cooler('./test.mcool::/resolutions/1000')"
   ]
  },
  {
   "cell_type": "code",
   "execution_count": 5,
   "id": "recovered-leone",
   "metadata": {},
   "outputs": [
    {
     "data": {
      "text/html": [
       "<div>\n",
       "<style scoped>\n",
       "    .dataframe tbody tr th:only-of-type {\n",
       "        vertical-align: middle;\n",
       "    }\n",
       "\n",
       "    .dataframe tbody tr th {\n",
       "        vertical-align: top;\n",
       "    }\n",
       "\n",
       "    .dataframe thead th {\n",
       "        text-align: right;\n",
       "    }\n",
       "</style>\n",
       "<table border=\"1\" class=\"dataframe\">\n",
       "  <thead>\n",
       "    <tr style=\"text-align: right;\">\n",
       "      <th></th>\n",
       "      <th>chrom</th>\n",
       "      <th>start</th>\n",
       "      <th>end</th>\n",
       "      <th>name</th>\n",
       "    </tr>\n",
       "  </thead>\n",
       "  <tbody>\n",
       "    <tr>\n",
       "      <th>0</th>\n",
       "      <td>chr2</td>\n",
       "      <td>0</td>\n",
       "      <td>93139351</td>\n",
       "      <td>chr2:0-93139351</td>\n",
       "    </tr>\n",
       "    <tr>\n",
       "      <th>1</th>\n",
       "      <td>chr2</td>\n",
       "      <td>93139351</td>\n",
       "      <td>242193529</td>\n",
       "      <td>chr2:93139351-242193529</td>\n",
       "    </tr>\n",
       "    <tr>\n",
       "      <th>2</th>\n",
       "      <td>chr17</td>\n",
       "      <td>0</td>\n",
       "      <td>24714921</td>\n",
       "      <td>chr17:0-24714921</td>\n",
       "    </tr>\n",
       "    <tr>\n",
       "      <th>3</th>\n",
       "      <td>chr17</td>\n",
       "      <td>24714921</td>\n",
       "      <td>83257441</td>\n",
       "      <td>chr17:24714921-83257441</td>\n",
       "    </tr>\n",
       "  </tbody>\n",
       "</table>\n",
       "</div>"
      ],
      "text/plain": [
       "   chrom     start        end                     name\n",
       "0   chr2         0   93139351          chr2:0-93139351\n",
       "1   chr2  93139351  242193529  chr2:93139351-242193529\n",
       "2  chr17         0   24714921         chr17:0-24714921\n",
       "3  chr17  24714921   83257441  chr17:24714921-83257441"
      ]
     },
     "execution_count": 5,
     "metadata": {},
     "output_type": "execute_result"
    }
   ],
   "source": [
    "# Use bioframe to fetch the genomic features from the UCSC.\n",
    "hg38_chromsizes = bioframe.fetch_chromsizes('hg38')\n",
    "hg38_cens = bioframe.fetch_centromeres('hg38')\n",
    "hg38_arms = bioframe.core.construction.add_ucsc_name_column(bioframe.make_chromarms(hg38_chromsizes,  hg38_cens))\n",
    "\n",
    "hg38_arms = hg38_arms[hg38_arms.chrom.isin(clr.chromnames)].reset_index(drop=True)\n",
    "hg38_arms"
   ]
  },
  {
   "cell_type": "code",
   "execution_count": 6,
   "id": "contrary-fruit",
   "metadata": {},
   "outputs": [],
   "source": [
    "# cvd == contacts-vs-distance\n",
    "cvd = cooltools.expected.diagsum_symm(\n",
    "    clr=clr,\n",
    "    view_df=hg38_arms,\n",
    "    transforms={'balanced': lambda p: p['count']*p['weight1']*p['weight2']}\n",
    ")"
   ]
  },
  {
   "cell_type": "code",
   "execution_count": 7,
   "metadata": {},
   "outputs": [],
   "source": [
    "# import importlib\n",
    "# importlib.reload(cooltools.sandbox.expected_smoothing)"
   ]
  },
  {
   "cell_type": "code",
   "execution_count": 8,
   "id": "based-vision",
   "metadata": {},
   "outputs": [],
   "source": [
    "cvd_smoothed = cooltools.sandbox.expected_smoothing.agg_smooth_cvd(cvd)"
   ]
  },
  {
   "cell_type": "code",
   "execution_count": 9,
   "metadata": {},
   "outputs": [
    {
     "data": {
      "text/html": [
       "<div>\n",
       "<style scoped>\n",
       "    .dataframe tbody tr th:only-of-type {\n",
       "        vertical-align: middle;\n",
       "    }\n",
       "\n",
       "    .dataframe tbody tr th {\n",
       "        vertical-align: top;\n",
       "    }\n",
       "\n",
       "    .dataframe thead th {\n",
       "        text-align: right;\n",
       "    }\n",
       "</style>\n",
       "<table border=\"1\" class=\"dataframe\">\n",
       "  <thead>\n",
       "    <tr style=\"text-align: right;\">\n",
       "      <th></th>\n",
       "      <th>region1</th>\n",
       "      <th>region2</th>\n",
       "      <th>diag</th>\n",
       "      <th>n_valid</th>\n",
       "      <th>count.sum</th>\n",
       "      <th>balanced.sum</th>\n",
       "      <th>n_valid.smoothed</th>\n",
       "      <th>balanced.sum.smoothed</th>\n",
       "      <th>balanced.avg.smoothed</th>\n",
       "    </tr>\n",
       "  </thead>\n",
       "  <tbody>\n",
       "    <tr>\n",
       "      <th>0</th>\n",
       "      <td>chr2:0-93139351</td>\n",
       "      <td>chr2:0-93139351</td>\n",
       "      <td>0</td>\n",
       "      <td>86055</td>\n",
       "      <td>NaN</td>\n",
       "      <td>NaN</td>\n",
       "      <td>0.000000e+00</td>\n",
       "      <td>0.000000</td>\n",
       "      <td>NaN</td>\n",
       "    </tr>\n",
       "    <tr>\n",
       "      <th>1</th>\n",
       "      <td>chr2:0-93139351</td>\n",
       "      <td>chr2:0-93139351</td>\n",
       "      <td>1</td>\n",
       "      <td>85282</td>\n",
       "      <td>NaN</td>\n",
       "      <td>NaN</td>\n",
       "      <td>8.619757e+04</td>\n",
       "      <td>89.919450</td>\n",
       "      <td>1.043179e-03</td>\n",
       "    </tr>\n",
       "    <tr>\n",
       "      <th>2</th>\n",
       "      <td>chr2:0-93139351</td>\n",
       "      <td>chr2:0-93139351</td>\n",
       "      <td>2</td>\n",
       "      <td>84918</td>\n",
       "      <td>10859113.0</td>\n",
       "      <td>8344.916674</td>\n",
       "      <td>1.047369e+05</td>\n",
       "      <td>9136.003487</td>\n",
       "      <td>8.722810e-02</td>\n",
       "    </tr>\n",
       "    <tr>\n",
       "      <th>3</th>\n",
       "      <td>chr2:0-93139351</td>\n",
       "      <td>chr2:0-93139351</td>\n",
       "      <td>3</td>\n",
       "      <td>84649</td>\n",
       "      <td>4742194.0</td>\n",
       "      <td>3623.417357</td>\n",
       "      <td>1.495651e+05</td>\n",
       "      <td>6448.641645</td>\n",
       "      <td>4.311594e-02</td>\n",
       "    </tr>\n",
       "    <tr>\n",
       "      <th>4</th>\n",
       "      <td>chr2:0-93139351</td>\n",
       "      <td>chr2:0-93139351</td>\n",
       "      <td>4</td>\n",
       "      <td>84442</td>\n",
       "      <td>2664596.0</td>\n",
       "      <td>2027.610660</td>\n",
       "      <td>2.002158e+05</td>\n",
       "      <td>4871.588615</td>\n",
       "      <td>2.433169e-02</td>\n",
       "    </tr>\n",
       "    <tr>\n",
       "      <th>...</th>\n",
       "      <td>...</td>\n",
       "      <td>...</td>\n",
       "      <td>...</td>\n",
       "      <td>...</td>\n",
       "      <td>...</td>\n",
       "      <td>...</td>\n",
       "      <td>...</td>\n",
       "      <td>...</td>\n",
       "      <td>...</td>\n",
       "    </tr>\n",
       "    <tr>\n",
       "      <th>325449</th>\n",
       "      <td>chr17:24714921-83257441</td>\n",
       "      <td>chr17:24714921-83257441</td>\n",
       "      <td>58539</td>\n",
       "      <td>0</td>\n",
       "      <td>0.0</td>\n",
       "      <td>0.000000</td>\n",
       "      <td>8.532259e+07</td>\n",
       "      <td>40.128635</td>\n",
       "      <td>4.703167e-07</td>\n",
       "    </tr>\n",
       "    <tr>\n",
       "      <th>325450</th>\n",
       "      <td>chr17:24714921-83257441</td>\n",
       "      <td>chr17:24714921-83257441</td>\n",
       "      <td>58540</td>\n",
       "      <td>0</td>\n",
       "      <td>0.0</td>\n",
       "      <td>0.000000</td>\n",
       "      <td>8.531510e+07</td>\n",
       "      <td>40.124875</td>\n",
       "      <td>4.703139e-07</td>\n",
       "    </tr>\n",
       "    <tr>\n",
       "      <th>325451</th>\n",
       "      <td>chr17:24714921-83257441</td>\n",
       "      <td>chr17:24714921-83257441</td>\n",
       "      <td>58541</td>\n",
       "      <td>0</td>\n",
       "      <td>0.0</td>\n",
       "      <td>0.000000</td>\n",
       "      <td>8.530762e+07</td>\n",
       "      <td>40.121115</td>\n",
       "      <td>4.703110e-07</td>\n",
       "    </tr>\n",
       "    <tr>\n",
       "      <th>325452</th>\n",
       "      <td>chr17:24714921-83257441</td>\n",
       "      <td>chr17:24714921-83257441</td>\n",
       "      <td>58542</td>\n",
       "      <td>0</td>\n",
       "      <td>0.0</td>\n",
       "      <td>0.000000</td>\n",
       "      <td>8.530014e+07</td>\n",
       "      <td>40.117355</td>\n",
       "      <td>4.703082e-07</td>\n",
       "    </tr>\n",
       "    <tr>\n",
       "      <th>325453</th>\n",
       "      <td>chr17:24714921-83257441</td>\n",
       "      <td>chr17:24714921-83257441</td>\n",
       "      <td>58543</td>\n",
       "      <td>0</td>\n",
       "      <td>0.0</td>\n",
       "      <td>0.000000</td>\n",
       "      <td>8.529266e+07</td>\n",
       "      <td>40.113596</td>\n",
       "      <td>4.703054e-07</td>\n",
       "    </tr>\n",
       "  </tbody>\n",
       "</table>\n",
       "<p>325454 rows × 9 columns</p>\n",
       "</div>"
      ],
      "text/plain": [
       "                        region1                  region2   diag  n_valid  \\\n",
       "0               chr2:0-93139351          chr2:0-93139351      0    86055   \n",
       "1               chr2:0-93139351          chr2:0-93139351      1    85282   \n",
       "2               chr2:0-93139351          chr2:0-93139351      2    84918   \n",
       "3               chr2:0-93139351          chr2:0-93139351      3    84649   \n",
       "4               chr2:0-93139351          chr2:0-93139351      4    84442   \n",
       "...                         ...                      ...    ...      ...   \n",
       "325449  chr17:24714921-83257441  chr17:24714921-83257441  58539        0   \n",
       "325450  chr17:24714921-83257441  chr17:24714921-83257441  58540        0   \n",
       "325451  chr17:24714921-83257441  chr17:24714921-83257441  58541        0   \n",
       "325452  chr17:24714921-83257441  chr17:24714921-83257441  58542        0   \n",
       "325453  chr17:24714921-83257441  chr17:24714921-83257441  58543        0   \n",
       "\n",
       "         count.sum  balanced.sum  n_valid.smoothed  balanced.sum.smoothed  \\\n",
       "0              NaN           NaN      0.000000e+00               0.000000   \n",
       "1              NaN           NaN      8.619757e+04              89.919450   \n",
       "2       10859113.0   8344.916674      1.047369e+05            9136.003487   \n",
       "3        4742194.0   3623.417357      1.495651e+05            6448.641645   \n",
       "4        2664596.0   2027.610660      2.002158e+05            4871.588615   \n",
       "...            ...           ...               ...                    ...   \n",
       "325449         0.0      0.000000      8.532259e+07              40.128635   \n",
       "325450         0.0      0.000000      8.531510e+07              40.124875   \n",
       "325451         0.0      0.000000      8.530762e+07              40.121115   \n",
       "325452         0.0      0.000000      8.530014e+07              40.117355   \n",
       "325453         0.0      0.000000      8.529266e+07              40.113596   \n",
       "\n",
       "        balanced.avg.smoothed  \n",
       "0                         NaN  \n",
       "1                1.043179e-03  \n",
       "2                8.722810e-02  \n",
       "3                4.311594e-02  \n",
       "4                2.433169e-02  \n",
       "...                       ...  \n",
       "325449           4.703167e-07  \n",
       "325450           4.703139e-07  \n",
       "325451           4.703110e-07  \n",
       "325452           4.703082e-07  \n",
       "325453           4.703054e-07  \n",
       "\n",
       "[325454 rows x 9 columns]"
      ]
     },
     "execution_count": 9,
     "metadata": {},
     "output_type": "execute_result"
    }
   ],
   "source": [
    "cvd_smoothed"
   ]
  },
  {
   "cell_type": "code",
   "execution_count": 10,
   "id": "compliant-installation",
   "metadata": {},
   "outputs": [
    {
     "data": {
      "image/png": "[encoded data removed]",
      "text/plain": [
       "<Figure size 900x600 with 1 Axes>"
      ]
     },
     "metadata": {
      "needs_background": "light"
     },
     "output_type": "display_data"
    }
   ],
   "source": [
    "plt.rcParams['figure.dpi'] = 150\n",
    "\n",
    "# for reg in cvd.region1.unique():\n",
    "#     cvd_loc = cvd[cvd.region1 == reg]\n",
    "#     plt.loglog(\n",
    "#         cvd_loc['diag'],\n",
    "#         cvd_loc['balanced.sum'] / cvd_loc['n_valid']\n",
    "#     )\n",
    "\n",
    "for reg in cvd_smoothed.region1.unique():\n",
    "    cvd_loc = cvd_smoothed[cvd_smoothed.region1 == reg]\n",
    "\n",
    "    plt.loglog(\n",
    "        cvd_loc['diag'],\n",
    "        cvd_loc['balanced.avg.smoothed']\n",
    "    )\n",
    "ax = plt.gca()\n",
    "ax.set(aspect=1.0);"
   ]
  },
  {
   "cell_type": "code",
   "execution_count": 11,
   "metadata": {},
   "outputs": [],
   "source": [
    "# Assign genome-wide P(s) to each region:\n",
    "cvd_smoothed_gw = cooltools.sandbox.expected_smoothing.agg_smooth_cvd(cvd, groupby=None)"
   ]
  },
  {
   "cell_type": "code",
   "execution_count": 12,
   "metadata": {},
   "outputs": [
    {
     "data": {
      "image/png": "[encoded data removed]",
      "text/plain": [
       "<Figure size 900x600 with 1 Axes>"
      ]
     },
     "metadata": {
      "needs_background": "light"
     },
     "output_type": "display_data"
    }
   ],
   "source": [
    "plt.rcParams['figure.dpi'] = 150\n",
    "\n",
    "# for reg in cvd.region1.unique():\n",
    "#     cvd_loc = cvd[cvd.region1 == reg]\n",
    "#     plt.loglog(\n",
    "#         cvd_loc['diag'],\n",
    "#         cvd_loc['balanced.sum'] / cvd_loc['n_valid']\n",
    "#     )\n",
    "\n",
    "for reg in cvd_smoothed_gw.region1.unique():\n",
    "    cvd_loc = cvd_smoothed_gw[cvd_smoothed_gw.region1 == reg]\n",
    "\n",
    "    plt.loglog(\n",
    "        cvd_loc['diag'],\n",
    "        cvd_loc['balanced.avg.smoothed']\n",
    "    )\n",
    "ax = plt.gca()\n",
    "ax.set(aspect=1.0);"
   ]
  }
 ],
 "metadata": {
  "interpreter": {
   "hash": "f29378d166744aaaed35a8c512e1253b2589c6d47f39e24c8ea5ce46f8c1fd5a"
  },
  "kernelspec": {
   "display_name": "Python 3.7.8 64-bit ('base': conda)",
   "name": "python3"
  },
  "language_info": {
   "codemirror_mode": {
    "name": "ipython",
    "version": 3
   },
   "file_extension": ".py",
   "mimetype": "text/x-python",
   "name": "python",
   "nbconvert_exporter": "python",
   "pygments_lexer": "ipython3",
   "version": "3.7.8"
  }
 },
 "nbformat": 4,
 "nbformat_minor": 5
}
